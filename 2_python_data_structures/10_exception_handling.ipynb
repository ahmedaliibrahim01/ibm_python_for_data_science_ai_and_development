{
 "cells": [
  {
   "cell_type": "markdown",
   "metadata": {},
   "source": [
    "# Exception Handling in Python"
   ]
  },
  {
   "cell_type": "markdown",
   "metadata": {},
   "source": [
    "**Objectives**\n",
    "\n",
    "1. Understanding Exceptions\n",
    "2. Distinguishing Errors from Exceptions\n",
    "3. Familiarity with Common Python Exceptions\n",
    "4. Managing Exceptions Effectively"
   ]
  },
  {
   "cell_type": "markdown",
   "metadata": {},
   "source": [
    "**What are exceptions?**\n",
    "\n",
    "Exceptions are alerts when something unexpected happens while running a program. It could be a mistake in the code or a situation that was not planned for. Python can raise these alerts automatically, but we can also trigger them on purpose using the raise command. The cool part is that we can prevent our program from crashing by handling exceptions."
   ]
  },
  {
   "cell_type": "markdown",
   "metadata": {},
   "source": [
    "**Errors vs. Exceptions**\n",
    "\n",
    "Hold on, what is the difference between errors and exceptions? Well, errors are usually big problems that come from the computer or the system. They often make the program stop working completely. On the other hand, exceptions are more like issues we can control. They happen because of something we did in our code and can usually be fixed, so the program keeps going."
   ]
  },
  {
   "cell_type": "markdown",
   "metadata": {},
   "source": [
    "**Common Exceptions in Python**\n",
    "\n",
    "Here are a few examples of exceptions we often run into and can handle using this tool:\n",
    "\n",
    "**ZeroDivisionError:** This error arises when an attempt is made to divide a number by zero. Division by zero is undefined in mathematics, causing an arithmetic error. For instance:\n",
    "For example:"
   ]
  },
  {
   "cell_type": "code",
   "execution_count": null,
   "metadata": {},
   "outputs": [],
   "source": [
    "result = 10 / 0 \n",
    "print(result)\n",
    "# Raises ZeroDivisionError"
   ]
  },
  {
   "cell_type": "markdown",
   "metadata": {},
   "source": [
    "**ValueError:** This error occurs when an inappropriate value is used within the code. An example of this is when trying to convert a non-numeric string to an integer:\n",
    "For example:"
   ]
  },
  {
   "cell_type": "code",
   "execution_count": null,
   "metadata": {},
   "outputs": [],
   "source": [
    "num = int(\"abc\")\n",
    "# Raises ValueError"
   ]
  },
  {
   "cell_type": "markdown",
   "metadata": {},
   "source": [
    "**FileNotFoundError:** This exception is encountered when an attempt is made to access a file that does not exist.\n",
    "For example:"
   ]
  },
  {
   "cell_type": "code",
   "execution_count": null,
   "metadata": {},
   "outputs": [],
   "source": [
    "with open(\"nonexistent_file.txt\", \"r\") as file:\n",
    "        content = file.read()   # Raises FileNotFoundError"
   ]
  },
  {
   "cell_type": "markdown",
   "metadata": {},
   "source": [
    "**IndexError:** An IndexError occurs when an index is used to access an element in a list that is outside the valid index range.\n",
    "For example:"
   ]
  },
  {
   "cell_type": "code",
   "execution_count": null,
   "metadata": {},
   "outputs": [],
   "source": [
    "my_list = [1, 2, 3]\n",
    "value = my_list[1]  # No IndexError, within range\n",
    "missing = my_list[5]  # Raises IndexError"
   ]
  },
  {
   "cell_type": "markdown",
   "metadata": {},
   "source": [
    "**KeyError:** The KeyError arises when an attempt is made to access a non-existent key in a dictionary.\n",
    "For example:"
   ]
  },
  {
   "cell_type": "code",
   "execution_count": null,
   "metadata": {},
   "outputs": [],
   "source": [
    "my_dict = {\"name\": \"Alice\", \"age\": 30}\n",
    "value = my_dict.get(\"city\")  # No KeyError, using .get() method\n",
    "missing = my_dict[\"city\"]  # Raises KeyError"
   ]
  },
  {
   "cell_type": "markdown",
   "metadata": {},
   "source": [
    "**TypeError:** The TypeError occurs when an object is used in an incompatible manner. An example includes trying to concatenate a string and an integer:\n",
    "For example:"
   ]
  },
  {
   "cell_type": "code",
   "execution_count": null,
   "metadata": {},
   "outputs": [],
   "source": [
    "result = \"hello\" + 5   \n",
    "# Raises TypeError"
   ]
  },
  {
   "cell_type": "markdown",
   "metadata": {},
   "source": [
    "**AttributeError:** An AttributeError occurs when an attribute or method is accessed on an object that doesn't possess that specific attribute or method. For instance:\n",
    "For example:"
   ]
  },
  {
   "cell_type": "code",
   "execution_count": null,
   "metadata": {},
   "outputs": [],
   "source": [
    "text = \"example\"\n",
    "length = len(text)  # No AttributeError, correct method usage\n",
    "missing = text.some_method()  # Raises AttributeError"
   ]
  },
  {
   "cell_type": "markdown",
   "metadata": {},
   "source": [
    "**Handling Exceptions:**\n",
    "\n",
    "Python has a handy tool called try and except that helps us manage exceptions.\n",
    "\n",
    "Try and Except : You can use the try and except blocks to prevent your program from crashing due to exceptions.\n",
    "\n",
    "Here's how they work:\n",
    "\n",
    "1. The code that may result in an exception is contained in the try block.\n",
    "2. If an exception occurs, the code directly jumps to except block.\n",
    "3. In the except block, you can define how to handle the exception gracefully, like displaying an error message or taking alternative actions.\n",
    "4. After the except block, the program continues executing the remaining code.\n",
    "\n",
    "**Example: Attempting to divide by zero**"
   ]
  },
  {
   "cell_type": "code",
   "execution_count": null,
   "metadata": {},
   "outputs": [],
   "source": [
    "# using Try- except \n",
    "try:\n",
    "    # Attempting to divide 10 by 0\n",
    "    result = 10 / 0\n",
    "except ZeroDivisionError:\n",
    "    # Handling the ZeroDivisionError and printing an error message\n",
    "    print(\"Error: Cannot divide by zero\")\n",
    "# This line will be executed regardless of whether an exception occurred\n",
    "print(\"outside of try and except block\")"
   ]
  }
 ],
 "metadata": {
  "kernelspec": {
   "display_name": "Python 3",
   "language": "python",
   "name": "python3"
  },
  "language_info": {
   "codemirror_mode": {
    "name": "ipython",
    "version": 3
   },
   "file_extension": ".py",
   "mimetype": "text/x-python",
   "name": "python",
   "nbconvert_exporter": "python",
   "pygments_lexer": "ipython3",
   "version": "3.13.0"
  }
 },
 "nbformat": 4,
 "nbformat_minor": 2
}
